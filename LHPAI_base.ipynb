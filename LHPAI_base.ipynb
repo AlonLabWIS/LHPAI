{
 "cells": [
  {
   "cell_type": "code",
   "execution_count": null,
   "metadata": {},
   "outputs": [],
   "source": [
    "!pip install sympy numpy pandas matplotlib scipy ipython\n",
    "# this should take up to 7 minutes"
   ]
  },
  {
   "cell_type": "code",
   "execution_count": 4,
   "metadata": {},
   "outputs": [],
   "source": [
    "from sympy import *\n",
    "import numpy as np\n",
    "import pandas as pd\n",
    "from matplotlib import pyplot as plt\n",
    "from scipy.integrate import odeint\n",
    "from scipy.optimize import fsolve\n",
    "from IPython.display import display, Math, Latex"
   ]
  },
  {
   "cell_type": "code",
   "execution_count": 6,
   "metadata": {},
   "outputs": [
    {
     "data": {
      "text/plain": [
       "{'x1': x1, 'x2': x2, 'x3': x3, 'x4': x4, 'x5': x5}"
      ]
     },
     "execution_count": 6,
     "metadata": {},
     "output_type": "execute_result"
    }
   ],
   "source": [
    "def crate_symbol(name):\n",
    "    return symbols(name, real=True, positive=True)\n",
    "\n",
    "\n",
    "def crate_model():\n",
    "    ret_dict = {\n",
    "        \"x1\": crate_symbol(\"x1\"),\n",
    "        \"x2\": crate_symbol(\"x2\"),\n",
    "        \"x3\": crate_symbol(\"x3\"),\n",
    "        \"x4\": crate_symbol(\"x4\"),\n",
    "        \"x5\": crate_symbol(\"x5\"),\n",
    "    }\n",
    "    \n",
    "    return ret_dict\n",
    "\n",
    "temp = crate_model()\n",
    "temp"
   ]
  },
  {
   "cell_type": "code",
   "execution_count": 83,
   "metadata": {},
   "outputs": [
    {
     "name": "stderr",
     "output_type": "stream",
     "text": [
      "C:\\Users\\qywoe\\AppData\\Local\\Temp\\ipykernel_5416\\2729542000.py:49: SymPyDeprecationWarning: \n",
      "\n",
      "non-Expr objects in a Matrix is deprecated. Matrix represents\n",
      "a mathematical matrix. To represent a container of non-numeric\n",
      "entities, Use a list of lists, TableForm, NumPy array, or some\n",
      "other data structure instead.\n",
      "\n",
      "See https://docs.sympy.org/latest/explanation/active-deprecations.html#deprecated-non-expr-in-matrix\n",
      "for details.\n",
      "\n",
      "This has been deprecated since SymPy version 1.9. It\n",
      "will be removed in a future version of SymPy.\n",
      "\n",
      "  Matrix(\n"
     ]
    },
    {
     "data": {
      "text/latex": [
       "$\\displaystyle \\left[\\begin{matrix}\\frac{d}{d t} x_{1} = \\frac{K_{GR}^{3} b_{1} u x_{5}}{x_{3} \\left(K_{GR}^{3} + x_{3}^{3}\\right)} - a_{1} x_{1}\\\\\\frac{d}{d t} x_{2} = \\frac{K_{GR}^{3} P b_{2} x_{1} x_{5}}{K_{GR}^{3} + x_{3}^{3}} - a_{2} x_{2}\\\\\\frac{d}{d t} x_{3} = A b_{3} x_{2} x_{4} x_{5} - a_{3} x_{3}\\\\\\frac{d}{d t} x_{4} = - a_{4} x_{4} + b_{4} u\\\\\\frac{d}{d t} x_{5} = \\frac{K_{GR}^{3} b_{5} u}{K_{GR}^{3} + x_{3}^{3}} - a_{5} x_{5}\\end{matrix}\\right]$"
      ],
      "text/plain": [
       "Matrix([\n",
       "[Eq(Derivative(x1, t), K_GR**3*b1*u*x5/(x3*(K_GR**3 + x3**3)) - a1*x1)],\n",
       "[  Eq(Derivative(x2, t), K_GR**3*P*b2*x1*x5/(K_GR**3 + x3**3) - a2*x2)],\n",
       "[                         Eq(Derivative(x3, t), A*b3*x2*x4*x5 - a3*x3)],\n",
       "[                                 Eq(Derivative(x4, t), -a4*x4 + b4*u)],\n",
       "[        Eq(Derivative(x5, t), K_GR**3*b5*u/(K_GR**3 + x3**3) - a5*x5)]])"
      ]
     },
     "metadata": {},
     "output_type": "display_data"
    }
   ],
   "source": [
    "\n",
    "        \n",
    "u = crate_symbol(\"u\")\n",
    "\n",
    "x1 = crate_symbol(\"x1\")\n",
    "x2 = crate_symbol(\"x2\")\n",
    "x3 = crate_symbol(\"x3\")\n",
    "x4 = crate_symbol(\"x4\")\n",
    "x5 = crate_symbol(\"x5\")\n",
    "\n",
    "a1 = crate_symbol(\"a1\")\n",
    "a2 = crate_symbol(\"a2\")\n",
    "a3 = crate_symbol(\"a3\")\n",
    "a4 = crate_symbol(\"a4\")\n",
    "a5 = crate_symbol(\"a5\")\n",
    "\n",
    "b1 = crate_symbol(\"b1\")\n",
    "b2 = crate_symbol(\"b2\")\n",
    "b3 = crate_symbol(\"b3\")\n",
    "b4 = crate_symbol(\"b4\")\n",
    "b5 = crate_symbol(\"b5\")\n",
    "\n",
    "K_GR = crate_symbol(\"K_GR\")\n",
    "H1 = crate_symbol(\"H1\")\n",
    "H2 = crate_symbol(\"H2\")\n",
    "P = crate_symbol(\"P\")\n",
    "A = crate_symbol(\"A\")\n",
    "t = crate_symbol(\"t\")\n",
    "\n",
    "aP = crate_symbol(\"aP\")\n",
    "aA = crate_symbol(\"aA\")\n",
    "\n",
    "bP = crate_symbol(\"bP\")\n",
    "bA = crate_symbol(\"bA\")\n",
    "\n",
    "\n",
    "mr = 1 / x3\n",
    "gr = K_GR ** 3 / (x3 ** 3 + K_GR ** 3)\n",
    "# # gr = 1 / (1 + (x_3 / K_GR) ** 3)\n",
    "# gr = 1\n",
    "f = gr * mr\n",
    "dx1_dt = b1 * u * gr * mr * x5 - a1 * x1\n",
    "dx2_dt = b2 * x1 * P * gr * x5- a2 * x2\n",
    "dx3_dt = b3 * x2 * A *x4 * x5 - a3 * x3\n",
    "dx4_dt = b4 * u -  a4 * x4\n",
    "dx5_dt = b5 * u * gr - a5 * x5\n",
    "dP_dt = P * (bP * x1 * x4 - aP)\n",
    "dA_dt = A * (bA * x2 - aA)\n",
    "\n",
    "display(\n",
    "    Matrix(\n",
    "        [\n",
    "            Eq(Derivative(x1, t), dx1_dt),\n",
    "            Eq(Derivative(x2, t), dx2_dt),\n",
    "            Eq(Derivative(x3, t), dx3_dt),\n",
    "            Eq(Derivative(x4, t), dx4_dt),\n",
    "            Eq(Derivative(x5, t), dx5_dt),\n",
    "        ]\n",
    "    )\n",
    ")\n",
    "model = Matrix([dx1_dt, dx2_dt, dx3_dt, dx4_dt, dx5_dt, dP_dt, dA_dt])\n",
    "variables = (x1, x2, x3, x4, x5, P, A)"
   ]
  },
  {
   "cell_type": "code",
   "execution_count": 28,
   "metadata": {},
   "outputs": [
    {
     "data": {
      "text/plain": [
       "{a1: 1,\n",
       " a2: 1,\n",
       " a3: 1,\n",
       " a4: 1,\n",
       " a5: 1,\n",
       " b1: 1,\n",
       " b2: 1,\n",
       " b3: 1,\n",
       " b4: 1,\n",
       " b5: 1,\n",
       " K_GR: 4,\n",
       " H1: 1,\n",
       " H2: 1,\n",
       " P: 1,\n",
       " A: 1}"
      ]
     },
     "execution_count": 28,
     "metadata": {},
     "output_type": "execute_result"
    }
   ],
   "source": [
    "parameters = {\n",
    "    a1: 1,\n",
    "    a2: 1,\n",
    "    a3: 1,\n",
    "    a4: 1,\n",
    "    a5: 1,\n",
    "    b1: 1,\n",
    "    b2: 1,\n",
    "    b3: 1,\n",
    "    b4: 1,\n",
    "    b5: 1,\n",
    "    K_GR: 4,\n",
    "    H1: 1,\n",
    "    H2: 1,\n",
    "    aA: 1,\n",
    "    aP: 1,\n",
    "    bA: 1,\n",
    "    bP: 1,\n",
    "    # P: 1,\n",
    "    # A: 1,\n",
    "    # u: 1,\n",
    "    # x1: 1,\n",
    "    # x2: 1,\n",
    "    # x3: 1,\n",
    "    # x4: 1,\n",
    "    # x5: 1,\n",
    "}\n",
    "\n",
    "parameters"
   ]
  },
  {
   "cell_type": "code",
   "execution_count": 22,
   "metadata": {},
   "outputs": [
    {
     "data": {
      "text/latex": [
       "$\\displaystyle \\left[\\begin{matrix}\\frac{u x_{5}}{x_{3} \\left(1 + \\frac{x_{3}^{3}}{K_{GR}^{3}}\\right)} - x_{1}\\\\\\frac{x_{1} x_{5}}{1 + \\frac{x_{3}^{3}}{K_{GR}^{3}}} - x_{2}\\\\x_{2} x_{4} x_{5} - x_{3}\\\\u - x_{4}\\\\\\frac{u}{1 + \\frac{x_{3}^{3}}{K_{GR}^{3}}} - x_{5}\\end{matrix}\\right]$"
      ],
      "text/plain": [
       "Matrix([\n",
       "[u*x5/(x3*(1 + x3**3/K_GR**3)) - x1],\n",
       "[    x1*x5/(1 + x3**3/K_GR**3) - x2],\n",
       "[                     x2*x4*x5 - x3],\n",
       "[                            u - x4],\n",
       "[        u/(1 + x3**3/K_GR**3) - x5]])"
      ]
     },
     "execution_count": 22,
     "metadata": {},
     "output_type": "execute_result"
    }
   ],
   "source": [
    "model.subs(parameters)"
   ]
  },
  {
   "cell_type": "code",
   "execution_count": 81,
   "metadata": {},
   "outputs": [
    {
     "data": {
      "text/latex": [
       "$\\displaystyle \\frac{K_{GR}^{3}}{K_{GR}^{3} + x_{3}^{3}}$"
      ],
      "text/plain": [
       "K_GR**3/(K_GR**3 + x3**3)"
      ]
     },
     "execution_count": 81,
     "metadata": {},
     "output_type": "execute_result"
    }
   ],
   "source": [
    "gr"
   ]
  },
  {
   "cell_type": "code",
   "execution_count": 53,
   "metadata": {
    "vscode": {
     "languageId": "julia"
    }
   },
   "outputs": [
    {
     "data": {
      "image/png": "[encoded data removed]",
      "text/plain": [
       "<Figure size 1000x800 with 1 Axes>"
      ]
     },
     "metadata": {},
     "output_type": "display_data"
    }
   ],
   "source": [
    "# Define the system of differential equations with piecewise function for u\n",
    "def model_system(y, t, params):\n",
    "    x1, x2, x3, x4, x5 = y\n",
    "    a1, a2, a3, a4, a5, b1, b2, b3, b4, b5, K_GR, P, A = params\n",
    "    \n",
    "    # Define u as a piecewise function\n",
    "    u = 1 if t < 15 or (t > 20 and t < 35) or t > 40 else 2\n",
    "    K_GR = 4 if t < 30 else 2\n",
    "    \n",
    "    # u = 1 if t < 15 and t <20 else 2\n",
    "    \n",
    "    mr = 1 / x3\n",
    "    # gr = 1 / (1 + (x3 / K_GR) ** 3)\n",
    "    f = gr * mr\n",
    "    \n",
    "    dx1_dt = b1 * u * gr * mr - a1 * x1\n",
    "    dx2_dt = b2 * x1 * P * gr - a2 * x2\n",
    "    dx3_dt = b3 * x2 * A * x4  - a3 * x3\n",
    "    dx4_dt = b4 * u * gr - a4 * x4\n",
    "    dx5_dt = b5 * u * gr - a5 * x5\n",
    "    \n",
    "\n",
    "    # dx1_dt = b1 * u * gr * mr * x5 - a1 * x1\n",
    "    # dx2_dt = b2 * x1 * P * gr * x5 - a2 * x2\n",
    "    # dx3_dt = b3 * x2 * A * x4 * x5 * gr - a3 * x3\n",
    "    # dx4_dt = b4 * u * gr - a4 * x4\n",
    "    # dx5_dt = b5 * u * gr - a5 * x5\n",
    "    \n",
    "    return [dx1_dt, dx2_dt, dx3_dt, dx4_dt, dx5_dt]\n",
    "\n",
    "# Initial conditions\n",
    "y0 = [1, 1, 1, 1, 1]\n",
    "\n",
    "# Time points where solution is computed\n",
    "t = np.linspace(0, 60, 400)\n",
    "\n",
    "# Parameters\n",
    "params = [parameters[a1], parameters[a2], parameters[a3], parameters[a4], parameters[a5],\n",
    "          parameters[b1], parameters[b2], parameters[b3], parameters[b4], parameters[b5],\n",
    "          parameters[K_GR], parameters[P], parameters[A]]\n",
    "\n",
    "# Solve the system of differential equations\n",
    "solution = odeint(model_system, y0, t, args=(params,))\n",
    "\n",
    "# Plot the results\n",
    "plt.figure(figsize=(10, 8))\n",
    "plt.plot(t, solution[:, 0], label='x1')\n",
    "plt.plot(t, solution[:, 1], label='x2')\n",
    "plt.plot(t, solution[:, 2], label='x3')\n",
    "plt.plot(t, solution[:, 3], label='x4')\n",
    "# plt.plot(t, solution[:, 4], label='x5')\n",
    "plt.xlabel('Time')\n",
    "plt.ylabel('Variables')\n",
    "plt.legend()\n",
    "plt.title('Simulation of Stress with u changing at t=5')\n",
    "plt.show()"
   ]
  },
  {
   "cell_type": "code",
   "execution_count": 82,
   "metadata": {},
   "outputs": [
    {
     "data": {
      "text/latex": [
       "$\\displaystyle \\left[\\begin{matrix}- x_{1} + \\frac{64}{x_{3} \\left(x_{3}^{3} + 64\\right)}\\\\\\frac{64 x_{1}}{x_{3}^{3} + 64} - x_{2}\\\\x_{2} x_{4} - x_{3}\\\\1 - x_{4}\\\\-1 + \\frac{64}{x_{3}^{3} + 64}\\end{matrix}\\right]$"
      ],
      "text/plain": [
       "Matrix([\n",
       "[-x1 + 64/(x3*(x3**3 + 64))],\n",
       "[   64*x1/(x3**3 + 64) - x2],\n",
       "[                x2*x4 - x3],\n",
       "[                    1 - x4],\n",
       "[      -1 + 64/(x3**3 + 64)]])"
      ]
     },
     "execution_count": 82,
     "metadata": {},
     "output_type": "execute_result"
    }
   ],
   "source": [
    "model.subs(parameters)"
   ]
  },
  {
   "cell_type": "code",
   "execution_count": 73,
   "metadata": {},
   "outputs": [
    {
     "data": {
      "text/latex": [
       "$\\displaystyle \\left[\\begin{matrix}- a_{1} x_{1} + \\frac{b_{1} u x_{5}}{x_{3} \\left(1 + \\frac{x_{3}^{3}}{K_{GR}^{3}}\\right)}\\\\\\frac{P b_{2} x_{1} x_{5}}{1 + \\frac{x_{3}^{3}}{K_{GR}^{3}}} - a_{2} x_{2}\\\\A b_{3} x_{2} x_{4} x_{5} - a_{3} x_{3}\\\\- a_{4} x_{4} + b_{4} u\\\\- a_{5} x_{5} + \\frac{b_{5} u}{1 + \\frac{x_{3}^{3}}{K_{GR}^{3}}}\\end{matrix}\\right]$"
      ],
      "text/plain": [
       "Matrix([\n",
       "[-a1*x1 + b1*u*x5/(x3*(1 + x3**3/K_GR**3))],\n",
       "[   P*b2*x1*x5/(1 + x3**3/K_GR**3) - a2*x2],\n",
       "[                    A*b3*x2*x4*x5 - a3*x3],\n",
       "[                            -a4*x4 + b4*u],\n",
       "[        -a5*x5 + b5*u/(1 + x3**3/K_GR**3)]])"
      ]
     },
     "execution_count": 73,
     "metadata": {},
     "output_type": "execute_result"
    }
   ],
   "source": [
    "model"
   ]
  },
  {
   "cell_type": "code",
   "execution_count": 77,
   "metadata": {},
   "outputs": [
    {
     "data": {
      "text/latex": [
       "$\\displaystyle \\frac{64}{x_{3} \\left(x_{3}^{3} + 64\\right)}$"
      ],
      "text/plain": [
       "64/(x3*(x3**3 + 64))"
      ]
     },
     "metadata": {},
     "output_type": "display_data"
    },
    {
     "data": {
      "text/latex": [
       "$\\displaystyle \\frac{4096}{x_{3} \\left(x_{3}^{6} + 128 x_{3}^{3} + 4096\\right)}$"
      ],
      "text/plain": [
       "4096/(x3*(x3**6 + 128*x3**3 + 4096))"
      ]
     },
     "metadata": {},
     "output_type": "display_data"
    },
    {
     "data": {
      "text/latex": [
       "$\\displaystyle x_{3}$"
      ],
      "text/plain": [
       "x3"
      ]
     },
     "metadata": {},
     "output_type": "display_data"
    },
    {
     "data": {
      "text/latex": [
       "$\\displaystyle x_{4}$"
      ],
      "text/plain": [
       "x4"
      ]
     },
     "metadata": {},
     "output_type": "display_data"
    },
    {
     "data": {
      "text/latex": [
       "$\\displaystyle x_{5}$"
      ],
      "text/plain": [
       "x5"
      ]
     },
     "metadata": {},
     "output_type": "display_data"
    }
   ],
   "source": [
    "def model_fixed_point_function(ic, model_function):\n",
    "    return model_function(*ic).flatten()\n",
    "\n",
    "guess = [\n",
    "    1,  # u\n",
    "    1,  # x_1\n",
    "    1,  # x_2\n",
    "    1,  # x_3\n",
    "    1,  # P\n",
    "]\n",
    "# use lsoda to solve the system\n",
    "parameters[u] = 1\n",
    "parameters[x5] = 1\n",
    "fix_point = solve(model.subs(parameters)[:2], variables)\n",
    "for point in fix_point:\n",
    "    for key in point:\n",
    "        display(key)\n",
    "# model_f = lambdify(variables, model.subs(parameters))\n",
    "# ic = fsolve(model_fixed_point_function, guess, args=model_f)\n",
    "# ic"
   ]
  }
 ],
 "metadata": {
  "kernelspec": {
   "display_name": ".venv",
   "language": "python",
   "name": "python3"
  },
  "language_info": {
   "codemirror_mode": {
    "name": "ipython",
    "version": 3
   },
   "file_extension": ".py",
   "mimetype": "text/x-python",
   "name": "python",
   "nbconvert_exporter": "python",
   "pygments_lexer": "ipython3",
   "version": "3.11.9"
  }
 },
 "nbformat": 4,
 "nbformat_minor": 2
}
